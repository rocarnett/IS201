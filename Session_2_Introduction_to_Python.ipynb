{
  "nbformat": 4,
  "nbformat_minor": 0,
  "metadata": {
    "colab": {
      "provenance": [],
      "include_colab_link": true
    },
    "kernelspec": {
      "name": "python3",
      "display_name": "Python 3"
    },
    "language_info": {
      "name": "python"
    }
  },
  "cells": [
    {
      "cell_type": "markdown",
      "metadata": {
        "id": "view-in-github",
        "colab_type": "text"
      },
      "source": [
        "<a href=\"https://colab.research.google.com/github/rocarnett/IS201/blob/main/Session_2_Introduction_to_Python.ipynb\" target=\"_parent\"><img src=\"https://colab.research.google.com/assets/colab-badge.svg\" alt=\"Open In Colab\"/></a>"
      ]
    },
    {
      "cell_type": "markdown",
      "source": [
        "**How do you add comments to your code?**"
      ],
      "metadata": {
        "id": "tqJtvvuvQtQn"
      }
    },
    {
      "cell_type": "code",
      "source": [
        "\n",
        "print(3 + 5)"
      ],
      "metadata": {
        "id": "QBZ_Zf_TRYUl"
      },
      "execution_count": null,
      "outputs": []
    },
    {
      "cell_type": "markdown",
      "source": [
        "**How do you use Python as a calculator? How do you create variables and assign values?**"
      ],
      "metadata": {
        "id": "41HlHqXmRoOV"
      }
    },
    {
      "cell_type": "code",
      "source": [
        "#Let's calculate your program GPA from last semester.\n",
        "\n",
        "#What was your GPA in STRAT 401? (A = 4.0, A- = 3.7, B+ = 3.4, B = 3.0, B- = 2.7, etc.)? Assign that GPA to a variable named strat401\n",
        "\n",
        "\n",
        "#What was your GPA in STRAT 402? (A = 4.0, A- = 3.7, B+ = 3.4, B = 3.0, B- = 2.7, etc.)? Assign that GPA to a variable named strat402\n",
        "\n",
        "\n",
        "#What was your GPA in STRAT 431? (A = 4.0, A- = 3.7, B+ = 3.4, B = 3.0, B- = 2.7, etc.)? Assign that GPA to a variable named strat431\n",
        "\n",
        "\n",
        "#Calculate your overall GPA by multiplying the each course by it's corresponding credit hour (STRAT 401 & 402 = 3 credits, STRAT 431 = 1.5 credits). Then divide by the total number of credit hours (i.e., 7.5).\n"
      ],
      "metadata": {
        "id": "qKCRo_ImRwCt"
      },
      "execution_count": null,
      "outputs": []
    },
    {
      "cell_type": "code",
      "source": [
        "#Create a variable named url for your favorite website.\n",
        "\n",
        "\n",
        "#Then print out the following statement: \"My favorite website is\" followed by the url of your favorite website.\n"
      ],
      "metadata": {
        "id": "QVt3zn3CTfHn"
      },
      "execution_count": null,
      "outputs": []
    },
    {
      "cell_type": "markdown",
      "source": [
        "**How do you create list?**"
      ],
      "metadata": {
        "id": "t7Ajdg_xTH68"
      }
    },
    {
      "cell_type": "code",
      "source": [
        "#Create a list of states in the \"Mormon Corridor\". See https://en.wikipedia.org/wiki/Mormon_corridor. Names the list lds_states.\n",
        "\n"
      ],
      "metadata": {
        "id": "hT-sx-E7TXZ_"
      },
      "execution_count": null,
      "outputs": []
    },
    {
      "cell_type": "markdown",
      "source": [
        "**How do you create a list of lists or a list of sublists?**"
      ],
      "metadata": {
        "id": "X92LWS49UTgm"
      }
    },
    {
      "cell_type": "code",
      "source": [
        "#Create a list of sublists for the Mormon Corridor with each sublist containing\n",
        "#the state abbreviation, followed by the it's corresponding capital city.\n",
        "#Name the list lds_states_capitals.\n"
      ],
      "metadata": {
        "id": "EBI6CZ_NUais"
      },
      "execution_count": null,
      "outputs": []
    },
    {
      "cell_type": "markdown",
      "source": [
        "**How do you determine the variable type?**"
      ],
      "metadata": {
        "id": "XllUnmBMVZ39"
      }
    },
    {
      "cell_type": "code",
      "source": [
        "#Double-check the variable type for lds_states_capitals list.\n",
        "\n"
      ],
      "metadata": {
        "id": "LhE7MQh9Vm1E"
      },
      "execution_count": null,
      "outputs": []
    },
    {
      "cell_type": "markdown",
      "source": [
        "**How do you subset/slice lists?**"
      ],
      "metadata": {
        "id": "iAPeGcQoWV4T"
      }
    },
    {
      "cell_type": "code",
      "source": [
        "#Suppose you start out with the following list \"lds_pop_us\" which contains all of the states in Mormon corridor and their corresponding lds populations (in millions).\n",
        "\n",
        "\n",
        "#Print the fourth element from the list?\n",
        "\n",
        "\n",
        "\n",
        "#Print the second-to-last element in the list?\n",
        "\n",
        "\n",
        "\n",
        "#Create new list called \"top_3\" which contains the three most populous lds states and their corresponding populations.\n"
      ],
      "metadata": {
        "id": "RrvLFPntWhts"
      },
      "execution_count": null,
      "outputs": []
    },
    {
      "cell_type": "markdown",
      "source": [
        "**How do you add, change, or remove elements from a list?**"
      ],
      "metadata": {
        "id": "5tIVVxFsZWx8"
      }
    },
    {
      "cell_type": "code",
      "source": [
        "#Add the province of Alberta (AB) to the list with a corresponding LDS population of 47,125. Rename the new list lds_pop_na\n",
        "\n",
        "\n",
        "\n",
        "#Suppose that you forgot the previous populations numbers were listed in millions. Change Alberta's population to correct units.\n",
        "\n",
        "\n",
        "\n",
        "#Given the low-cost of living in Texas, let's assume that the newest state to be added to the Mormon Corridor is Texas (TX). Let's insert TX and its corresponding LDS population into the list. Use google or AI to solve.\n",
        "\n",
        "\n",
        "\n",
        "#Now let's say you changed your mind and only want US states, including the newly added state of Texas. Remove Alberta and it's corresponding LDS population. Rename the list as lds_pop.\n",
        "\n",
        "\n"
      ],
      "metadata": {
        "id": "dKcFpMhyZzY6"
      },
      "execution_count": null,
      "outputs": []
    },
    {
      "cell_type": "markdown",
      "source": [
        "**How do you to install and import packages and modules?**"
      ],
      "metadata": {
        "id": "TmSMuzcGcNdL"
      }
    },
    {
      "cell_type": "code",
      "source": [
        "#Install the numpy package\n",
        "!pip install numpy\n",
        "\n",
        "#Import the array module from numpy\n",
        "from numpy import get_array_wrap"
      ],
      "metadata": {
        "id": "7XMDVlLgcf_a"
      },
      "execution_count": null,
      "outputs": []
    },
    {
      "cell_type": "code",
      "source": [
        "#Install the Beautiful Soup (v4.0) package\n",
        "!pip install beautifulsoup4\n",
        "\n",
        "#Import the \"Beautiful Soup\" module from the bs4 package\n",
        "from bs4 import BeautifulSoup"
      ],
      "metadata": {
        "id": "6jURp15gbqLy"
      },
      "execution_count": null,
      "outputs": []
    }
  ]
}